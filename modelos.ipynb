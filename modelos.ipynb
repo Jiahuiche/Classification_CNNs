{
 "cells": [
  {
   "cell_type": "markdown",
   "id": "5c02b6d0",
   "metadata": {},
   "source": [
    "# Modelos CNN"
   ]
  },
  {
   "cell_type": "markdown",
   "id": "9d95b581",
   "metadata": {},
   "source": [
    "# Database"
   ]
  },
  {
   "cell_type": "code",
   "execution_count": null,
   "id": "425e3697",
   "metadata": {},
   "outputs": [],
   "source": [
    "import os\n",
    "import time\n",
    "import random\n",
    "import numpy as np\n",
    "import torch\n",
    "import torch.nn as nn\n",
    "import torch.optim as optim\n",
    "from torchvision import datasets, transforms\n",
    "from torch.utils.data import DataLoader, Subset\n",
    "import matplotlib.pyplot as plt\n",
    "from tqdm import tqdm\n",
    "from improved_model import ImprovedCNNModel as  ElVostreModel # Assuming you have an improved model defined in this module"
   ]
  },
  {
   "cell_type": "code",
   "execution_count": null,
   "id": "003abb5e",
   "metadata": {},
   "outputs": [],
   "source": [
    "torch.manual_seed(123)\n",
    "random.seed(123)\n",
    "np.random.seed(123)\n",
    "\n",
    "\n",
    "# ---------- Dataset ----------\n",
    "transform = transforms.Compose([transforms.Grayscale(num_output_channels=1), transforms.ToTensor()])\n",
    "\n",
    "data_dir = \"data/train\"\n",
    "dataset = datasets.ImageFolder(root=data_dir, transform=transform)\n",
    "\n",
    "class_names = dataset.classes\n",
    "num_classes = len(class_names)\n",
    "\n",
    "# ---------- Validació ----------\n",
    "val_dir = \"data/validation\"\n",
    "val_dataset = datasets.ImageFolder(root=val_dir, transform=transform)\n",
    "\n"
   ]
  },
  {
   "cell_type": "code",
   "execution_count": null,
   "id": "a9451207",
   "metadata": {},
   "outputs": [],
   "source": [
    "lr = 0.001\n",
    "batch_size = 64\n",
    "max_total_time = 600 \n",
    "dataloader = DataLoader(dataset, batch_size=batch_size, shuffle=True)\n",
    "val_loader = DataLoader(val_dataset, batch_size=batch_size, shuffle=False)\n"
   ]
  },
  {
   "cell_type": "code",
   "execution_count": null,
   "id": "641404d2",
   "metadata": {},
   "outputs": [],
   "source": [
    "'''# ---------- Model ----------\n",
    "class ElVostreModel(nn.Module):\n",
    "    def __init__(self, num_classes):\n",
    "        super(ElVostreModel, self).__init__()\n",
    "        self.net = nn.Sequential(\n",
    "            nn.Flatten(),\n",
    "            nn.Linear(28*28, 256),\n",
    "            nn.ReLU(),\n",
    "            nn.Linear(256, num_classes)\n",
    "        )\n",
    "\n",
    "    def forward(self, x):\n",
    "        return self.net(x)\n",
    "    \n",
    "'''"
   ]
  },
  {
   "cell_type": "code",
   "execution_count": null,
   "id": "4bef1bc0",
   "metadata": {},
   "outputs": [],
   "source": [
    "device = torch.device(\"cpu\")\n",
    "model = ElVostreModel(num_classes).to(device)"
   ]
  },
  {
   "cell_type": "code",
   "execution_count": null,
   "id": "3e7fe1ad",
   "metadata": {},
   "outputs": [],
   "source": [
    "optimizer = optim.Adam(model.parameters(), lr=lr)\n",
    "criterion = nn.CrossEntropyLoss()"
   ]
  },
  {
   "cell_type": "code",
   "execution_count": null,
   "id": "dc15691b",
   "metadata": {},
   "outputs": [],
   "source": [
    "def evaluate(loader, name):\n",
    "    model.eval()\n",
    "    correct = 0\n",
    "    total = 0\n",
    "    with torch.no_grad():\n",
    "        for images, labels in loader:\n",
    "            images, labels = images.to(device), labels.to(device)\n",
    "            outputs = model(images)\n",
    "            _, preds = torch.max(outputs, 1)\n",
    "            correct += (preds == labels).sum().item()\n",
    "            total += labels.size(0)\n",
    "    accuracy = correct / total\n",
    "    print(f\"{name} Accuracy: {accuracy * 100:.2f}%\")\n",
    "    return accuracy"
   ]
  },
  {
   "cell_type": "code",
   "execution_count": null,
   "id": "4cf4fa1b",
   "metadata": {},
   "outputs": [],
   "source": [
    "start_time = time.time()\n",
    "epoch = 0\n",
    "\n",
    "while True:\n",
    "    epoch += 1\n",
    "    model.train()\n",
    "    loop = tqdm(dataloader, desc=f\"Època {epoch}\", leave=False)\n",
    "\n",
    "    for i, (images, labels) in enumerate(loop):\n",
    "        if time.time() - start_time > max_total_time:\n",
    "            print(\"Temps màxim assolit. Fi de l'entrenament\")\n",
    "            break\n",
    "        break\n",
    "\n",
    "        images, labels = images.to(device), labels.to(device)\n",
    "        optimizer.zero_grad()\n",
    "        outputs = model(images)\n",
    "        loss = criterion(outputs, labels)\n",
    "        loss.backward()\n",
    "        optimizer.step()\n",
    "        loop.set_postfix(loss=loss.item())\n",
    "        # ...\n",
    "\n",
    "    # Validació per època\n",
    "    val_acc = evaluate(val_loader, f\"Validació (després de la època {epoch})\")"
   ]
  },
  {
   "cell_type": "markdown",
   "id": "36a450ec",
   "metadata": {},
   "source": [
    "# Final Avaluacio"
   ]
  },
  {
   "cell_type": "code",
   "execution_count": null,
   "id": "718f879a",
   "metadata": {},
   "outputs": [],
   "source": [
    "train_acc = evaluate(dataloader, \"Train (subset)\")\n",
    "val_acc = evaluate(val_loader, \"Validation (final)\")\n",
    "print(f\"\\nFinal Metrics:\")\n",
    "print(f\"   Train Accuracy: {train_acc * 100:.2f}%\")\n",
    "print(f\"   Validation Accuracy: {val_acc * 100:.2f}%\")"
   ]
  },
  {
   "cell_type": "markdown",
   "id": "05c388dd",
   "metadata": {},
   "source": [
    "## Afegir els pessos"
   ]
  }
 ],
 "metadata": {
  "kernelspec": {
   "display_name": "Python 3",
   "language": "python",
   "name": "python3"
  },
  "language_info": {
   "codemirror_mode": {
    "name": "ipython",
    "version": 3
   },
   "file_extension": ".py",
   "mimetype": "text/x-python",
   "name": "python",
   "nbconvert_exporter": "python",
   "pygments_lexer": "ipython3",
   "version": "3.11.9"
  }
 },
 "nbformat": 4,
 "nbformat_minor": 5
}
